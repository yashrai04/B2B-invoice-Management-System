{
 "cells": [
  {
   "cell_type": "code",
   "execution_count": null,
   "id": "8f785c3f",
   "metadata": {},
   "outputs": [
    {
     "name": "stdout",
     "output_type": "stream",
     "text": [
      " * Serving Flask app \"__main__\" (lazy loading)\n",
      " * Environment: production\n",
      "\u001b[31m   WARNING: This is a development server. Do not use it in a production deployment.\u001b[0m\n",
      "\u001b[2m   Use a production WSGI server instead.\u001b[0m\n",
      " * Debug mode: on\n"
     ]
    },
    {
     "name": "stderr",
     "output_type": "stream",
     "text": [
      " * Running on http://127.0.0.1:5000/ (Press CTRL+C to quit)\n",
      "127.0.0.1 - - [22/Jun/2023 19:29:51] \"\u001b[33mGET / HTTP/1.1\u001b[0m\" 404 -\n",
      "127.0.0.1 - - [22/Jun/2023 19:29:51] \"\u001b[33mGET /favicon.ico HTTP/1.1\u001b[0m\" 404 -\n",
      "127.0.0.1 - - [22/Jun/2023 19:30:11] \"\u001b[31m\u001b[1mGET /predict HTTP/1.1\u001b[0m\" 405 -\n",
      "127.0.0.1 - - [22/Jun/2023 20:10:42] \"\u001b[31m\u001b[1mGET /predict HTTP/1.1\u001b[0m\" 405 -\n",
      "127.0.0.1 - - [22/Jun/2023 20:10:43] \"\u001b[31m\u001b[1mGET /predict HTTP/1.1\u001b[0m\" 405 -\n",
      "127.0.0.1 - - [22/Jun/2023 20:10:43] \"\u001b[31m\u001b[1mGET /predict HTTP/1.1\u001b[0m\" 405 -\n"
     ]
    }
   ],
   "source": [
    "from flask import Flask,jsonify, request\n",
    "from flask_cors import CORS, cross_origin\n",
    "import Smartmodel\n",
    "app = Flask(__name__)\n",
    "cors = CORS(app)\n",
    "app.config['CORS_HEADERS'] = 'application/json'\n",
    "\n",
    "@app.route(\"/predict\", methods=[\"POST\"])\n",
    "@cross_origin(supports_credentials=True)\n",
    "def predictOap():\n",
    "    data = request.get_json()\n",
    "    print(data)\n",
    "    return jsonify(Smartmodel.predict(data).tolist())\n",
    "\n",
    "if __name__ == '__main__':\n",
    "    app.run(debug=True,use_reloader=False)"
   ]
  },
  {
   "cell_type": "code",
   "execution_count": 2,
   "id": "82e6087f",
   "metadata": {},
   "outputs": [
    {
     "name": "stdout",
     "output_type": "stream",
     "text": [
      "Collecting Flask-Cors\n",
      "  Using cached Flask_Cors-3.0.10-py2.py3-none-any.whl (14 kB)\n",
      "Requirement already satisfied: Six in c:\\users\\kiit\\anaconda3\\lib\\site-packages (from Flask-Cors) (1.15.0)\n",
      "Requirement already satisfied: Flask>=0.9 in c:\\users\\kiit\\anaconda3\\lib\\site-packages (from Flask-Cors) (1.1.2)\n",
      "Requirement already satisfied: itsdangerous>=0.24 in c:\\users\\kiit\\anaconda3\\lib\\site-packages (from Flask>=0.9->Flask-Cors) (1.1.0)\n",
      "Requirement already satisfied: click>=5.1 in c:\\users\\kiit\\anaconda3\\lib\\site-packages (from Flask>=0.9->Flask-Cors) (8.0.4)\n",
      "Requirement already satisfied: Werkzeug>=0.15 in c:\\users\\kiit\\anaconda3\\lib\\site-packages (from Flask>=0.9->Flask-Cors) (1.0.1)\n",
      "Requirement already satisfied: Jinja2>=2.10.1 in c:\\users\\kiit\\anaconda3\\lib\\site-packages (from Flask>=0.9->Flask-Cors) (2.11.3)\n",
      "Requirement already satisfied: colorama in c:\\users\\kiit\\appdata\\roaming\\python\\python38\\site-packages (from click>=5.1->Flask>=0.9->Flask-Cors) (0.4.6)\n",
      "Requirement already satisfied: MarkupSafe>=0.23 in c:\\users\\kiit\\anaconda3\\lib\\site-packages (from Jinja2>=2.10.1->Flask>=0.9->Flask-Cors) (1.1.1)\n",
      "Installing collected packages: Flask-Cors\n",
      "Successfully installed Flask-Cors-3.0.10\n",
      "Note: you may need to restart the kernel to use updated packages.\n"
     ]
    }
   ],
   "source": [
    "pip install Flask-Cors"
   ]
  },
  {
   "cell_type": "code",
   "execution_count": null,
   "id": "c480baed",
   "metadata": {},
   "outputs": [],
   "source": [
    "from flask import Flask, jsonify, request\n",
    "from flask_cors import CORS, cross_origin\n",
    "import Smartmodel\n",
    "import mysql.connector\n",
    "\n",
    "app = Flask(_name_)\n",
    "cors = CORS(app)\n",
    "app.config['CORS_HEADERS'] = 'application/json'\n",
    "\n",
    "# Establish a database connection\n",
    "db = mysql.connector.connect(\n",
    "    host='localhost',\n",
    "    user='root',\n",
    "    password='Rohan@123',\n",
    "    database='h2h'\n",
    ")\n",
    "\n",
    "@app.route(\"/predict\", methods=[\"GET\", \"POST\"])  # Allow both GET and POST methods\n",
    "@cross_origin(supports_credentials=True)\n",
    "def predictOap():\n",
    "    if request.method == 'POST':\n",
    "        data = request.get_json()\n",
    "        print(data)\n",
    "\n",
    "        # Fetch data from the database\n",
    "        cursor = db.cursor()\n",
    "        cursor.execute(\"SELECT * FROM your_table LIMIT 5\")\n",
    "        result = cursor.fetchall()\n",
    "        cursor.close()\n",
    "\n",
    "        # Process the fetched data\n",
    "        # You can perform any necessary transformations or calculations here\n",
    "\n",
    "        return jsonify(Smartmodel.predict(data).tolist())\n",
    "    else:\n",
    "        return \"This endpoint only accepts POST requests.\"\n",
    "\n",
    "if _name_ == '_main_':\n",
    "    app.run(debug=True, use_reloader=False)"
   ]
  },
  {
   "cell_type": "code",
   "execution_count": null,
   "id": "2ebc6143",
   "metadata": {},
   "outputs": [],
   "source": []
  }
 ],
 "metadata": {
  "kernelspec": {
   "display_name": "Python 3 (ipykernel)",
   "language": "python",
   "name": "python3"
  },
  "language_info": {
   "codemirror_mode": {
    "name": "ipython",
    "version": 3
   },
   "file_extension": ".py",
   "mimetype": "text/x-python",
   "name": "python",
   "nbconvert_exporter": "python",
   "pygments_lexer": "ipython3",
   "version": "3.8.8"
  }
 },
 "nbformat": 4,
 "nbformat_minor": 5
}
